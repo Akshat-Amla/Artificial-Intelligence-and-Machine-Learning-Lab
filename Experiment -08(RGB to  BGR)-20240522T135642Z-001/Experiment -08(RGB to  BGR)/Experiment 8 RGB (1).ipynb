{
 "cells": [
  {
   "cell_type": "code",
   "execution_count": 8,
   "metadata": {},
   "outputs": [
    {
     "name": "stdout",
     "output_type": "stream",
     "text": [
      "Collecting opencv-python\n",
      "  Obtaining dependency information for opencv-python from https://files.pythonhosted.org/packages/c7/ec/9dabb6a9abfdebb3c45b0cc52dec901caafef2b2c7e7d6a839ed86d81e91/opencv_python-4.9.0.80-cp37-abi3-win_amd64.whl.metadata\n",
      "  Downloading opencv_python-4.9.0.80-cp37-abi3-win_amd64.whl.metadata (20 kB)\n",
      "Requirement already satisfied: numpy>=1.21.2 in c:\\users\\acer\\anaconda3\\lib\\site-packages (from opencv-python) (1.24.3)\n",
      "Downloading opencv_python-4.9.0.80-cp37-abi3-win_amd64.whl (38.6 MB)\n",
      "   ---------------------------------------- 0.0/38.6 MB ? eta -:--:--\n",
      "   ---------------------------------------- 0.0/38.6 MB ? eta -:--:--\n",
      "   ---------------------------------------- 0.1/38.6 MB 1.3 MB/s eta 0:00:30\n",
      "    --------------------------------------- 0.5/38.6 MB 4.6 MB/s eta 0:00:09\n",
      "   - -------------------------------------- 1.7/38.6 MB 11.0 MB/s eta 0:00:04\n",
      "   ---- ----------------------------------- 4.1/38.6 MB 20.3 MB/s eta 0:00:02\n",
      "   ----- ---------------------------------- 4.9/38.6 MB 19.7 MB/s eta 0:00:02\n",
      "   ------ --------------------------------- 5.9/38.6 MB 19.8 MB/s eta 0:00:02\n",
      "   ------ --------------------------------- 6.6/38.6 MB 19.9 MB/s eta 0:00:02\n",
      "   ------ --------------------------------- 6.6/38.6 MB 19.9 MB/s eta 0:00:02\n",
      "   ------ --------------------------------- 6.6/38.6 MB 19.9 MB/s eta 0:00:02\n",
      "   ------ --------------------------------- 6.7/38.6 MB 14.4 MB/s eta 0:00:03\n",
      "   ------- -------------------------------- 7.0/38.6 MB 13.6 MB/s eta 0:00:03\n",
      "   ------- -------------------------------- 7.2/38.6 MB 12.8 MB/s eta 0:00:03\n",
      "   ------- -------------------------------- 7.6/38.6 MB 12.4 MB/s eta 0:00:03\n",
      "   -------- ------------------------------- 7.9/38.6 MB 12.3 MB/s eta 0:00:03\n",
      "   -------- ------------------------------- 8.2/38.6 MB 12.0 MB/s eta 0:00:03\n",
      "   -------- ------------------------------- 8.6/38.6 MB 11.7 MB/s eta 0:00:03\n",
      "   --------- ------------------------------ 9.0/38.6 MB 11.7 MB/s eta 0:00:03\n",
      "   --------- ------------------------------ 9.3/38.6 MB 11.5 MB/s eta 0:00:03\n",
      "   ---------- ----------------------------- 9.7/38.6 MB 11.1 MB/s eta 0:00:03\n",
      "   ---------- ----------------------------- 9.9/38.6 MB 10.9 MB/s eta 0:00:03\n",
      "   ---------- ----------------------------- 10.2/38.6 MB 10.6 MB/s eta 0:00:03\n",
      "   ---------- ----------------------------- 10.4/38.6 MB 11.1 MB/s eta 0:00:03\n",
      "   ---------- ----------------------------- 10.5/38.6 MB 10.7 MB/s eta 0:00:03\n",
      "   ----------- ---------------------------- 10.7/38.6 MB 10.4 MB/s eta 0:00:03\n",
      "   ----------- ---------------------------- 10.7/38.6 MB 10.1 MB/s eta 0:00:03\n",
      "   ------------ --------------------------- 12.5/38.6 MB 10.2 MB/s eta 0:00:03\n",
      "   -------------- ------------------------- 14.1/38.6 MB 10.2 MB/s eta 0:00:03\n",
      "   --------------- ------------------------ 15.0/38.6 MB 10.1 MB/s eta 0:00:03\n",
      "   ---------------- ----------------------- 15.7/38.6 MB 10.1 MB/s eta 0:00:03\n",
      "   ---------------- ----------------------- 16.0/38.6 MB 10.1 MB/s eta 0:00:03\n",
      "   ---------------- ----------------------- 16.0/38.6 MB 10.1 MB/s eta 0:00:03\n",
      "   ---------------- ----------------------- 16.0/38.6 MB 10.1 MB/s eta 0:00:03\n",
      "   ---------------- ----------------------- 16.2/38.6 MB 8.8 MB/s eta 0:00:03\n",
      "   ---------------- ----------------------- 16.3/38.6 MB 8.6 MB/s eta 0:00:03\n",
      "   ----------------- ---------------------- 16.7/38.6 MB 8.3 MB/s eta 0:00:03\n",
      "   ----------------- ---------------------- 17.0/38.6 MB 9.4 MB/s eta 0:00:03\n",
      "   ----------------- ---------------------- 17.4/38.6 MB 9.6 MB/s eta 0:00:03\n",
      "   ------------------ --------------------- 17.7/38.6 MB 9.8 MB/s eta 0:00:03\n",
      "   ------------------ --------------------- 18.2/38.6 MB 9.8 MB/s eta 0:00:03\n",
      "   ------------------- -------------------- 18.6/38.6 MB 9.8 MB/s eta 0:00:03\n",
      "   ------------------- -------------------- 19.0/38.6 MB 9.9 MB/s eta 0:00:02\n",
      "   ------------------- -------------------- 19.3/38.6 MB 9.6 MB/s eta 0:00:03\n",
      "   -------------------- ------------------- 19.4/38.6 MB 9.5 MB/s eta 0:00:03\n",
      "   -------------------- ------------------- 19.5/38.6 MB 9.2 MB/s eta 0:00:03\n",
      "   ---------------------- ----------------- 21.6/38.6 MB 12.6 MB/s eta 0:00:02\n",
      "   ----------------------- ---------------- 23.0/38.6 MB 12.1 MB/s eta 0:00:02\n",
      "   ------------------------ --------------- 24.0/38.6 MB 11.7 MB/s eta 0:00:02\n",
      "   ------------------------- -------------- 24.7/38.6 MB 11.9 MB/s eta 0:00:02\n",
      "   -------------------------- ------------- 25.1/38.6 MB 11.7 MB/s eta 0:00:02\n",
      "   -------------------------- ------------- 25.1/38.6 MB 11.7 MB/s eta 0:00:02\n",
      "   -------------------------- ------------- 25.1/38.6 MB 11.7 MB/s eta 0:00:02\n",
      "   --------------------------- ------------ 26.8/38.6 MB 13.9 MB/s eta 0:00:01\n",
      "   ----------------------------- ---------- 28.2/38.6 MB 16.8 MB/s eta 0:00:01\n",
      "   ------------------------------ --------- 29.9/38.6 MB 24.2 MB/s eta 0:00:01\n",
      "   ------------------------------- -------- 30.6/38.6 MB 23.4 MB/s eta 0:00:01\n",
      "   -------------------------------- ------- 31.5/38.6 MB 21.9 MB/s eta 0:00:01\n",
      "   --------------------------------- ------ 32.3/38.6 MB 20.5 MB/s eta 0:00:01\n",
      "   ---------------------------------- ----- 33.1/38.6 MB 19.3 MB/s eta 0:00:01\n",
      "   ----------------------------------- ---- 33.9/38.6 MB 19.3 MB/s eta 0:00:01\n",
      "   ----------------------------------- ---- 34.8/38.6 MB 19.3 MB/s eta 0:00:01\n",
      "   ------------------------------------ --- 35.6/38.6 MB 25.2 MB/s eta 0:00:01\n",
      "   ------------------------------------- -- 36.4/38.6 MB 23.4 MB/s eta 0:00:01\n",
      "   -------------------------------------- - 37.2/38.6 MB 24.2 MB/s eta 0:00:01\n",
      "   ---------------------------------------  38.0/38.6 MB 21.8 MB/s eta 0:00:01\n",
      "   ---------------------------------------  38.6/38.6 MB 21.1 MB/s eta 0:00:01\n",
      "   ---------------------------------------  38.6/38.6 MB 21.1 MB/s eta 0:00:01\n",
      "   ---------------------------------------  38.6/38.6 MB 21.1 MB/s eta 0:00:01\n",
      "   ---------------------------------------- 38.6/38.6 MB 16.4 MB/s eta 0:00:00\n",
      "Installing collected packages: opencv-python\n",
      "Successfully installed opencv-python-4.9.0.80\n"
     ]
    }
   ],
   "source": [
    "!pip install opencv-python"
   ]
  },
  {
   "cell_type": "markdown",
   "metadata": {},
   "source": [
    "Implement the Image processing basics: Converting Image to RGB to BGR and to Grayscale, create a White / Black Color Image, how to draw shapes on image.\n",
    "\n",
    "Date = 14-05-2024"
   ]
  },
  {
   "cell_type": "code",
   "execution_count": 9,
   "metadata": {},
   "outputs": [],
   "source": [
    "import cv2\n",
    "import numpy as np"
   ]
  },
  {
   "cell_type": "code",
   "execution_count": 10,
   "metadata": {},
   "outputs": [],
   "source": [
    "def convert_to_grayscale(image_path):\n",
    "    #Load the image\n",
    "    image = cv2.imread(image_path)\n",
    "    #Convert the image into grayscale\n",
    "    grayscale_image = cv2.cvtColor(image, cv2.COLOR_BGR2GRAY)\n",
    "\n",
    "    cv2.imshow(\"Original Image\", image)\n",
    "    cv2.imshow(\"Grayscale Image\", grayscale_image)\n",
    "    cv2.waitKey(0)\n",
    "    cv2.destroyAllWindows()\n",
    "           "
   ]
  },
  {
   "cell_type": "code",
   "execution_count": 13,
   "metadata": {},
   "outputs": [],
   "source": [
    "convert_to_grayscale(\"C:/Users/ACER/Downloads/LAB PRACTICAL/Experiment -08(RGB to  BGR)-20240522T135642Z-001/Experiment -08(RGB to  BGR)/img.jpg\")"
   ]
  },
  {
   "cell_type": "code",
   "execution_count": 14,
   "metadata": {},
   "outputs": [],
   "source": [
    "def convert_to_bgr(image_path, output_path):\n",
    "    #Load the image\n",
    "    image = cv2.imread(image_path)\n",
    "    #Convert the image to BGR color space\n",
    "    bgr_image = cv2.cvtColor(image, cv2.COLOR_RGB2BGR)\n",
    "\n",
    "    # Display the original ad BGR images\n",
    "    cv2.imshow(\"Original Image\", image)\n",
    "    cv2.imshow(\"BGR Image\", bgr_image)\n",
    "\n",
    "    # Save the BGR image\n",
    "    cv2.imwrite(output_path, bgr_image)\n",
    "    print(\"BGR image saves as\", output_path)\n",
    "    cv2.waitKey(0)\n",
    "    cv2.destroyAllWindows()"
   ]
  },
  {
   "cell_type": "code",
   "execution_count": 15,
   "metadata": {},
   "outputs": [
    {
     "name": "stdout",
     "output_type": "stream",
     "text": [
      "BGR image saves as C:/Users/ACER/Downloads/LAB PRACTICAL/Experiment -08(RGB to  BGR)-20240522T135642Z-001/Experiment -08(RGB to  BGR)/img2.jpg\n"
     ]
    }
   ],
   "source": [
    "convert_to_bgr(\"C:/Users/ACER/Downloads/LAB PRACTICAL/Experiment -08(RGB to  BGR)-20240522T135642Z-001/Experiment -08(RGB to  BGR)/img.jpg\", \"C:/Users/ACER/Downloads/LAB PRACTICAL/Experiment -08(RGB to  BGR)-20240522T135642Z-001/Experiment -08(RGB to  BGR)/img2.jpg\" )"
   ]
  },
  {
   "cell_type": "code",
   "execution_count": 16,
   "metadata": {},
   "outputs": [],
   "source": [
    "def convert_bgr_to_rgb(input_path):\n",
    "    # Load the image\n",
    "    image_bgr = cv2.imread(input_path)\n",
    "    # Convert the image from BGR to RGB color space\n",
    "    image_rgb = cv2.cvtColor(image_bgr, cv2.COLOR_BGR2RGB)\n",
    "\n",
    "    #Display the original BGR image and the converted RGB image\n",
    "    cv2.imshow(\"BGR Image\", image_bgr)\n",
    "    cv2.imshow(\"RGB Image\", image_rgb)\n",
    "    cv2.waitKey(0)\n",
    "    cv2.destroyAllWindows()"
   ]
  },
  {
   "cell_type": "code",
   "execution_count": 18,
   "metadata": {},
   "outputs": [],
   "source": [
    "convert_bgr_to_rgb(\"C:/Users/ACER/Downloads/LAB PRACTICAL/Experiment -08(RGB to  BGR)-20240522T135642Z-001/Experiment -08(RGB to  BGR)/img.jpg\")"
   ]
  },
  {
   "cell_type": "code",
   "execution_count": 19,
   "metadata": {},
   "outputs": [],
   "source": [
    "def create_white_image(width, height):\n",
    "    #Create a white color image\n",
    "    white_image = np.ones((height, width, 3), dtype=np.uint8) * 255\n",
    "\n",
    "    # Display the white image\n",
    "    cv2.imshow(\"WHite Image\", white_image)\n",
    "    cv2.waitKey(0)\n",
    "    cv2.destroyAllWindows()"
   ]
  },
  {
   "cell_type": "code",
   "execution_count": 20,
   "metadata": {},
   "outputs": [],
   "source": [
    "def create_black_image(width, height):\n",
    "    # Create a black color image\n",
    "    black_image = np.zeros((height, width, 3), dtype=np.uint8) * 255\n",
    "\n",
    "    # Display the blac image\n",
    "    cv2.imshow(\"Black Image\", black_image)\n",
    "    cv2.waitKey(0)\n",
    "    cv2.destroyAllWindows()"
   ]
  },
  {
   "cell_type": "code",
   "execution_count": 21,
   "metadata": {},
   "outputs": [],
   "source": [
    "width, height = 800, 600\n",
    "\n",
    "create_white_image(width, height)\n",
    "create_black_image(width, height)"
   ]
  },
  {
   "cell_type": "code",
   "execution_count": 22,
   "metadata": {},
   "outputs": [],
   "source": [
    "def draw_shapes_on_image(input_path):\n",
    "    # Load the image\n",
    "    image = cv2.imread(input_path)\n",
    "\n",
    "    #Draw shapes on the image\n",
    "    cv2.rectangle(image, (50, 50), (200, 200), (0, 255, 0), 2)\n",
    "\n",
    "    cv2.circle(image, (300, 150), 100, (0,0,255),2)\n",
    "\n",
    "    cv2.line(image, (400, 50), (400, 250), (255, 0 ,0), 2)\n",
    "\n",
    "    cv2.imshow(\"Image with Shapes\", image)\n",
    "    cv2.waitKey(0)\n",
    "    cv2.destroyAllWindows()"
   ]
  },
  {
   "cell_type": "code",
   "execution_count": 23,
   "metadata": {},
   "outputs": [],
   "source": [
    "draw_shapes_on_image(\"C:/Users/ACER/Downloads/LAB PRACTICAL/Experiment -08(RGB to  BGR)-20240522T135642Z-001/Experiment -08(RGB to  BGR)/img.jpg\")"
   ]
  }
 ],
 "metadata": {
  "kernelspec": {
   "display_name": "Python 3 (ipykernel)",
   "language": "python",
   "name": "python3"
  },
  "language_info": {
   "codemirror_mode": {
    "name": "ipython",
    "version": 3
   },
   "file_extension": ".py",
   "mimetype": "text/x-python",
   "name": "python",
   "nbconvert_exporter": "python",
   "pygments_lexer": "ipython3",
   "version": "3.11.5"
  }
 },
 "nbformat": 4,
 "nbformat_minor": 2
}
